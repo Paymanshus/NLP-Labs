{
  "nbformat": 4,
  "nbformat_minor": 0,
  "metadata": {
    "colab": {
      "name": "NLP_Assignment_1_J046.ipynb",
      "provenance": [],
      "authorship_tag": "ABX9TyOxpx8l+P5Prk1yYAc0j279",
      "include_colab_link": true
    },
    "kernelspec": {
      "name": "python3",
      "display_name": "Python 3"
    },
    "language_info": {
      "name": "python"
    }
  },
  "cells": [
    {
      "cell_type": "markdown",
      "metadata": {
        "id": "view-in-github",
        "colab_type": "text"
      },
      "source": [
        "<a href=\"https://colab.research.google.com/github/Paymanshus/NLP-Labs/blob/main/NLP_Assignment_1_J046.ipynb\" target=\"_parent\"><img src=\"https://colab.research.google.com/assets/colab-badge.svg\" alt=\"Open In Colab\"/></a>"
      ]
    },
    {
      "cell_type": "code",
      "metadata": {
        "id": "GmIa6yU7ImB5"
      },
      "source": [
        "import matplotlib.pyplot as plt\n",
        "import pandas as pd\n",
        "import matplotlib.pyplot as plt\n",
        "import seaborn as sns\n",
        "from collections import Counter\n",
        "\n",
        "from sklearn.model_selection import train_test_split\n",
        "from sklearn.preprocessing import LabelEncoder\n",
        "from sklearn.feature_extraction.text import CountVectorizer, TfidfTransformer\n",
        "from sklearn.linear_model import LogisticRegression\n",
        "from sklearn.svm import SVC\n",
        "from sklearn.naive_bayes import MultinomialNB\n",
        "from sklearn.tree import DecisionTreeClassifier\n",
        "from sklearn.neighbors import KNeighborsClassifier\n",
        "from sklearn.ensemble import RandomForestClassifier\n",
        "from sklearn.ensemble import AdaBoostClassifier\n",
        "from xgboost import XGBClassifier\n",
        "from catboost import CatBoostClassifier\n",
        "from sklearn.metrics import accuracy_score, confusion_matrix\n",
        "\n",
        "import re\n",
        "import nltk\n",
        "# nltk.download('all')\n",
        "\n",
        "import string\n",
        "\n",
        "from nltk.corpus import stopwords\n",
        "from nltk.stem.porter import PorterStemmer\n",
        "from nltk.stem import WordNetLemmatizer"
      ],
      "execution_count": 66,
      "outputs": []
    },
    {
      "cell_type": "code",
      "metadata": {
        "id": "qBezOHK38kw2"
      },
      "source": [
        "!pip install catboost"
      ],
      "execution_count": null,
      "outputs": []
    },
    {
      "cell_type": "code",
      "metadata": {
        "colab": {
          "base_uri": "https://localhost:8080/"
        },
        "id": "0njOeOsFMCzj",
        "outputId": "cf24f661-4950-453a-aef3-714ceeee43f2"
      },
      "source": [
        "from google.colab import drive\n",
        "drive.mount('/content/drive')"
      ],
      "execution_count": 2,
      "outputs": [
        {
          "output_type": "stream",
          "text": [
            "Mounted at /content/drive\n"
          ],
          "name": "stdout"
        }
      ]
    },
    {
      "cell_type": "code",
      "metadata": {
        "colab": {
          "base_uri": "https://localhost:8080/",
          "height": 195
        },
        "id": "f2GXF61IMDzx",
        "outputId": "213b4b94-20ad-4578-c7ed-4805dff202d7"
      },
      "source": [
        "df = pd.read_csv('/content/drive/MyDrive/NLP Datasets/spam.csv', encoding='latin-1')\n",
        "df.head()"
      ],
      "execution_count": 3,
      "outputs": [
        {
          "output_type": "execute_result",
          "data": {
            "text/html": [
              "<div>\n",
              "<style scoped>\n",
              "    .dataframe tbody tr th:only-of-type {\n",
              "        vertical-align: middle;\n",
              "    }\n",
              "\n",
              "    .dataframe tbody tr th {\n",
              "        vertical-align: top;\n",
              "    }\n",
              "\n",
              "    .dataframe thead th {\n",
              "        text-align: right;\n",
              "    }\n",
              "</style>\n",
              "<table border=\"1\" class=\"dataframe\">\n",
              "  <thead>\n",
              "    <tr style=\"text-align: right;\">\n",
              "      <th></th>\n",
              "      <th>v1</th>\n",
              "      <th>v2</th>\n",
              "      <th>Unnamed: 2</th>\n",
              "      <th>Unnamed: 3</th>\n",
              "      <th>Unnamed: 4</th>\n",
              "    </tr>\n",
              "  </thead>\n",
              "  <tbody>\n",
              "    <tr>\n",
              "      <th>0</th>\n",
              "      <td>ham</td>\n",
              "      <td>Go until jurong point, crazy.. Available only ...</td>\n",
              "      <td>NaN</td>\n",
              "      <td>NaN</td>\n",
              "      <td>NaN</td>\n",
              "    </tr>\n",
              "    <tr>\n",
              "      <th>1</th>\n",
              "      <td>ham</td>\n",
              "      <td>Ok lar... Joking wif u oni...</td>\n",
              "      <td>NaN</td>\n",
              "      <td>NaN</td>\n",
              "      <td>NaN</td>\n",
              "    </tr>\n",
              "    <tr>\n",
              "      <th>2</th>\n",
              "      <td>spam</td>\n",
              "      <td>Free entry in 2 a wkly comp to win FA Cup fina...</td>\n",
              "      <td>NaN</td>\n",
              "      <td>NaN</td>\n",
              "      <td>NaN</td>\n",
              "    </tr>\n",
              "    <tr>\n",
              "      <th>3</th>\n",
              "      <td>ham</td>\n",
              "      <td>U dun say so early hor... U c already then say...</td>\n",
              "      <td>NaN</td>\n",
              "      <td>NaN</td>\n",
              "      <td>NaN</td>\n",
              "    </tr>\n",
              "    <tr>\n",
              "      <th>4</th>\n",
              "      <td>ham</td>\n",
              "      <td>Nah I don't think he goes to usf, he lives aro...</td>\n",
              "      <td>NaN</td>\n",
              "      <td>NaN</td>\n",
              "      <td>NaN</td>\n",
              "    </tr>\n",
              "  </tbody>\n",
              "</table>\n",
              "</div>"
            ],
            "text/plain": [
              "     v1  ... Unnamed: 4\n",
              "0   ham  ...        NaN\n",
              "1   ham  ...        NaN\n",
              "2  spam  ...        NaN\n",
              "3   ham  ...        NaN\n",
              "4   ham  ...        NaN\n",
              "\n",
              "[5 rows x 5 columns]"
            ]
          },
          "metadata": {
            "tags": []
          },
          "execution_count": 3
        }
      ]
    },
    {
      "cell_type": "markdown",
      "metadata": {
        "id": "wzFnxhCNPiN0"
      },
      "source": [
        "# Preprocessing and EDA"
      ]
    },
    {
      "cell_type": "code",
      "metadata": {
        "colab": {
          "base_uri": "https://localhost:8080/"
        },
        "id": "_Tbt0bo4MONz",
        "outputId": "224da4df-fc22-48d0-f4ce-8b638b3a4c8e"
      },
      "source": [
        "df.isnull().sum()"
      ],
      "execution_count": 4,
      "outputs": [
        {
          "output_type": "execute_result",
          "data": {
            "text/plain": [
              "v1               0\n",
              "v2               0\n",
              "Unnamed: 2    5522\n",
              "Unnamed: 3    5560\n",
              "Unnamed: 4    5566\n",
              "dtype: int64"
            ]
          },
          "metadata": {
            "tags": []
          },
          "execution_count": 4
        }
      ]
    },
    {
      "cell_type": "code",
      "metadata": {
        "colab": {
          "base_uri": "https://localhost:8080/"
        },
        "id": "P67NzfZ5MWxF",
        "outputId": "9fb34417-afff-4553-e685-3a20ff1bb5c5"
      },
      "source": [
        "df.shape"
      ],
      "execution_count": 5,
      "outputs": [
        {
          "output_type": "execute_result",
          "data": {
            "text/plain": [
              "(5572, 5)"
            ]
          },
          "metadata": {
            "tags": []
          },
          "execution_count": 5
        }
      ]
    },
    {
      "cell_type": "code",
      "metadata": {
        "colab": {
          "base_uri": "https://localhost:8080/",
          "height": 195
        },
        "id": "B-VO0oxZMZF0",
        "outputId": "fb2a61f4-c0d4-4555-b9c3-3070b7222f7f"
      },
      "source": [
        "df[df['Unnamed: 2'].notnull()].head()"
      ],
      "execution_count": 6,
      "outputs": [
        {
          "output_type": "execute_result",
          "data": {
            "text/html": [
              "<div>\n",
              "<style scoped>\n",
              "    .dataframe tbody tr th:only-of-type {\n",
              "        vertical-align: middle;\n",
              "    }\n",
              "\n",
              "    .dataframe tbody tr th {\n",
              "        vertical-align: top;\n",
              "    }\n",
              "\n",
              "    .dataframe thead th {\n",
              "        text-align: right;\n",
              "    }\n",
              "</style>\n",
              "<table border=\"1\" class=\"dataframe\">\n",
              "  <thead>\n",
              "    <tr style=\"text-align: right;\">\n",
              "      <th></th>\n",
              "      <th>v1</th>\n",
              "      <th>v2</th>\n",
              "      <th>Unnamed: 2</th>\n",
              "      <th>Unnamed: 3</th>\n",
              "      <th>Unnamed: 4</th>\n",
              "    </tr>\n",
              "  </thead>\n",
              "  <tbody>\n",
              "    <tr>\n",
              "      <th>95</th>\n",
              "      <td>spam</td>\n",
              "      <td>Your free ringtone is waiting to be collected....</td>\n",
              "      <td>PO Box 5249</td>\n",
              "      <td>MK17 92H. 450Ppw 16\"</td>\n",
              "      <td>NaN</td>\n",
              "    </tr>\n",
              "    <tr>\n",
              "      <th>281</th>\n",
              "      <td>ham</td>\n",
              "      <td>\\Wen u miss someone</td>\n",
              "      <td>the person is definitely special for u..... B...</td>\n",
              "      <td>why to miss them</td>\n",
              "      <td>just Keep-in-touch\\\" gdeve..\"</td>\n",
              "    </tr>\n",
              "    <tr>\n",
              "      <th>444</th>\n",
              "      <td>ham</td>\n",
              "      <td>\\HEY HEY WERETHE MONKEESPEOPLE SAY WE MONKEYAR...</td>\n",
              "      <td>HOWU DOIN? FOUNDURSELF A JOBYET SAUSAGE?LOVE ...</td>\n",
              "      <td>NaN</td>\n",
              "      <td>NaN</td>\n",
              "    </tr>\n",
              "    <tr>\n",
              "      <th>671</th>\n",
              "      <td>spam</td>\n",
              "      <td>SMS. ac sun0819 posts HELLO:\\You seem cool</td>\n",
              "      <td>wanted to say hi. HI!!!\\\" Stop? Send STOP to ...</td>\n",
              "      <td>NaN</td>\n",
              "      <td>NaN</td>\n",
              "    </tr>\n",
              "    <tr>\n",
              "      <th>710</th>\n",
              "      <td>ham</td>\n",
              "      <td>Height of Confidence: All the Aeronautics prof...</td>\n",
              "      <td>this wont even start........ Datz confidence..\"</td>\n",
              "      <td>NaN</td>\n",
              "      <td>NaN</td>\n",
              "    </tr>\n",
              "  </tbody>\n",
              "</table>\n",
              "</div>"
            ],
            "text/plain": [
              "       v1  ...                      Unnamed: 4\n",
              "95   spam  ...                             NaN\n",
              "281   ham  ...   just Keep-in-touch\\\" gdeve..\"\n",
              "444   ham  ...                             NaN\n",
              "671  spam  ...                             NaN\n",
              "710   ham  ...                             NaN\n",
              "\n",
              "[5 rows x 5 columns]"
            ]
          },
          "metadata": {
            "tags": []
          },
          "execution_count": 6
        }
      ]
    },
    {
      "cell_type": "code",
      "metadata": {
        "id": "bDXcfbmdMyNb"
      },
      "source": [
        "df.drop(df.iloc[:,2:], axis=1, inplace=True)"
      ],
      "execution_count": 7,
      "outputs": []
    },
    {
      "cell_type": "code",
      "metadata": {
        "colab": {
          "base_uri": "https://localhost:8080/",
          "height": 195
        },
        "id": "yHKGfzjITAOX",
        "outputId": "2838fcca-9da5-4d44-e809-cfad6bdf1363"
      },
      "source": [
        "df.columns = ['label', 'text']\n",
        "df.head()"
      ],
      "execution_count": 8,
      "outputs": [
        {
          "output_type": "execute_result",
          "data": {
            "text/html": [
              "<div>\n",
              "<style scoped>\n",
              "    .dataframe tbody tr th:only-of-type {\n",
              "        vertical-align: middle;\n",
              "    }\n",
              "\n",
              "    .dataframe tbody tr th {\n",
              "        vertical-align: top;\n",
              "    }\n",
              "\n",
              "    .dataframe thead th {\n",
              "        text-align: right;\n",
              "    }\n",
              "</style>\n",
              "<table border=\"1\" class=\"dataframe\">\n",
              "  <thead>\n",
              "    <tr style=\"text-align: right;\">\n",
              "      <th></th>\n",
              "      <th>label</th>\n",
              "      <th>text</th>\n",
              "    </tr>\n",
              "  </thead>\n",
              "  <tbody>\n",
              "    <tr>\n",
              "      <th>0</th>\n",
              "      <td>ham</td>\n",
              "      <td>Go until jurong point, crazy.. Available only ...</td>\n",
              "    </tr>\n",
              "    <tr>\n",
              "      <th>1</th>\n",
              "      <td>ham</td>\n",
              "      <td>Ok lar... Joking wif u oni...</td>\n",
              "    </tr>\n",
              "    <tr>\n",
              "      <th>2</th>\n",
              "      <td>spam</td>\n",
              "      <td>Free entry in 2 a wkly comp to win FA Cup fina...</td>\n",
              "    </tr>\n",
              "    <tr>\n",
              "      <th>3</th>\n",
              "      <td>ham</td>\n",
              "      <td>U dun say so early hor... U c already then say...</td>\n",
              "    </tr>\n",
              "    <tr>\n",
              "      <th>4</th>\n",
              "      <td>ham</td>\n",
              "      <td>Nah I don't think he goes to usf, he lives aro...</td>\n",
              "    </tr>\n",
              "  </tbody>\n",
              "</table>\n",
              "</div>"
            ],
            "text/plain": [
              "  label                                               text\n",
              "0   ham  Go until jurong point, crazy.. Available only ...\n",
              "1   ham                      Ok lar... Joking wif u oni...\n",
              "2  spam  Free entry in 2 a wkly comp to win FA Cup fina...\n",
              "3   ham  U dun say so early hor... U c already then say...\n",
              "4   ham  Nah I don't think he goes to usf, he lives aro..."
            ]
          },
          "metadata": {
            "tags": []
          },
          "execution_count": 8
        }
      ]
    },
    {
      "cell_type": "markdown",
      "metadata": {
        "id": "IG_XPfaqQk9a"
      },
      "source": [
        "## Visualisation"
      ]
    },
    {
      "cell_type": "code",
      "metadata": {
        "colab": {
          "base_uri": "https://localhost:8080/"
        },
        "id": "HP5dxKCANF9D",
        "outputId": "76b768b1-4614-47d1-8f50-ae2acea85397"
      },
      "source": [
        "df['label'].value_counts()"
      ],
      "execution_count": 9,
      "outputs": [
        {
          "output_type": "execute_result",
          "data": {
            "text/plain": [
              "ham     4825\n",
              "spam     747\n",
              "Name: label, dtype: int64"
            ]
          },
          "metadata": {
            "tags": []
          },
          "execution_count": 9
        }
      ]
    },
    {
      "cell_type": "code",
      "metadata": {
        "colab": {
          "base_uri": "https://localhost:8080/",
          "height": 298
        },
        "id": "Pu2Qet-lNQGc",
        "outputId": "b3d480ab-f6bd-4401-f3c3-744a446d19a7"
      },
      "source": [
        "sns.countplot(x='label', data=df)"
      ],
      "execution_count": 10,
      "outputs": [
        {
          "output_type": "execute_result",
          "data": {
            "text/plain": [
              "<matplotlib.axes._subplots.AxesSubplot at 0x7f3f09e53ed0>"
            ]
          },
          "metadata": {
            "tags": []
          },
          "execution_count": 10
        },
        {
          "output_type": "display_data",
          "data": {
            "image/png": "[encoded data removed]",
            "text/plain": [
              "<Figure size 432x288 with 1 Axes>"
            ]
          },
          "metadata": {
            "tags": [],
            "needs_background": "light"
          }
        }
      ]
    },
    {
      "cell_type": "markdown",
      "metadata": {
        "id": "02jTkuZaPn54"
      },
      "source": [
        "Hence we can see the imbalance between the count of occurences of ham and spam"
      ]
    },
    {
      "cell_type": "code",
      "metadata": {
        "id": "UyNqxT-zNazx"
      },
      "source": [
        "def preprocessing(text):\n",
        "  lemmatizer = WordNetLemmatizer()\n",
        "  stemmer = PorterStemmer()\n",
        "\n",
        "  stop_words = stopwords.words('english') + list(string.punctuation)\n",
        "\n",
        "  filter_sentence = ''\n",
        "  corpus = []\n",
        "\n",
        "  # Regex based cleaning\n",
        "  text = re.sub(r'[^\\w\\s]', '', text)\n",
        "\n",
        "  # Tokenization\n",
        "  words = nltk.word_tokenize(text)\n",
        "\n",
        "  # Stopwords Removal\n",
        "  words = [w for w in words if not w in stop_words]\n",
        "\n",
        "  # Lemmatization and Lowercase\n",
        "  filter_sentence = [filter_sentence + ' ' + str(stemmer.stem(word)).lower() for word in words]\n",
        "\n",
        "  return filter_sentence"
      ],
      "execution_count": 17,
      "outputs": []
    },
    {
      "cell_type": "code",
      "metadata": {
        "colab": {
          "base_uri": "https://localhost:8080/"
        },
        "id": "wtH4rm2BRaRd",
        "outputId": "49cb720b-e5b8-48df-a4bd-055321000ddc"
      },
      "source": [
        "# Applying the preprocessing\n",
        "df['text'].apply(preprocessing)"
      ],
      "execution_count": 18,
      "outputs": [
        {
          "output_type": "execute_result",
          "data": {
            "text/plain": [
              "0       [ go,  jurong,  point,  crazi,  avail,  bugi, ...\n",
              "1                      [ ok,  lar,  joke,  wif,  u,  oni]\n",
              "2       [ free,  entri,  2,  wkli,  comp,  win,  fa,  ...\n",
              "3       [ u,  dun,  say,  earli,  hor,  u,  c,  alread...\n",
              "4       [ nah,  i,  dont,  think,  goe,  usf,  live,  ...\n",
              "                              ...                        \n",
              "5567    [ thi,  2nd,  time,  tri,  2,  contact,  u,  u...\n",
              "5568         [ will,  ì_,  b,  go,  esplanad,  fr,  home]\n",
              "5569                     [ piti,  mood,  soani,  suggest]\n",
              "5570    [ the,  guy,  bitch,  i,  act,  like,  id,  in...\n",
              "5571                           [ rofl,  it,  true,  name]\n",
              "Name: text, Length: 5572, dtype: object"
            ]
          },
          "metadata": {
            "tags": []
          },
          "execution_count": 18
        }
      ]
    },
    {
      "cell_type": "code",
      "metadata": {
        "id": "TEtVAwaUdhmS"
      },
      "source": [
        "corpus = df['text'].tolist()\n",
        "# corpus"
      ],
      "execution_count": null,
      "outputs": []
    },
    {
      "cell_type": "markdown",
      "metadata": {
        "id": "rnN6O_fseNHT"
      },
      "source": [
        "## Label Encoding\n"
      ]
    },
    {
      "cell_type": "code",
      "metadata": {
        "id": "HX8SU4bBeMhS"
      },
      "source": [
        "le = LabelEncoder()\n",
        "\n",
        "df['label'] = le.fit_transform(df['label'])"
      ],
      "execution_count": 20,
      "outputs": []
    },
    {
      "cell_type": "markdown",
      "metadata": {
        "id": "kY-Lh-XQQkH_"
      },
      "source": [
        "## Train Test Split\n"
      ]
    },
    {
      "cell_type": "code",
      "metadata": {
        "colab": {
          "base_uri": "https://localhost:8080/"
        },
        "id": "Ot4ZwuDkPuSy",
        "outputId": "0b8c971d-6829-4509-c872-258dea4d6901"
      },
      "source": [
        "X_train, X_test, y_train, y_test = train_test_split(df['text'], df['label'], test_size = 0.3, random_state = 42)\n",
        "X_train.shape, y_test.shape"
      ],
      "execution_count": 21,
      "outputs": [
        {
          "output_type": "execute_result",
          "data": {
            "text/plain": [
              "((3900,), (1672,))"
            ]
          },
          "metadata": {
            "tags": []
          },
          "execution_count": 21
        }
      ]
    },
    {
      "cell_type": "markdown",
      "metadata": {
        "id": "t83P2DCDfAqz"
      },
      "source": [
        "## Count Vectorizer and tfidf Transform"
      ]
    },
    {
      "cell_type": "code",
      "metadata": {
        "id": "TfQ2xuOfchQN"
      },
      "source": [
        "cv = CountVectorizer() #max_features = 1500)\n",
        "X_train_cv = cv.fit_transform(X_train)\n",
        "X_test_cv = cv.transform(X_test)"
      ],
      "execution_count": 22,
      "outputs": []
    },
    {
      "cell_type": "code",
      "metadata": {
        "colab": {
          "base_uri": "https://localhost:8080/"
        },
        "id": "KtVxat2ZfK_f",
        "outputId": "6e99c70c-ab46-4ed1-f608-74f04a3e3182"
      },
      "source": [
        "tfidf_transformer = TfidfTransformer()\n",
        "tfidf_transformer.fit_transform(X_train_cv)"
      ],
      "execution_count": 24,
      "outputs": [
        {
          "output_type": "execute_result",
          "data": {
            "text/plain": [
              "<3900x7206 sparse matrix of type '<class 'numpy.float64'>'\n",
              "\twith 51569 stored elements in Compressed Sparse Row format>"
            ]
          },
          "metadata": {
            "tags": []
          },
          "execution_count": 24
        }
      ]
    },
    {
      "cell_type": "markdown",
      "metadata": {
        "id": "0nBRPSBbfaOb"
      },
      "source": [
        "# Modelling"
      ]
    },
    {
      "cell_type": "markdown",
      "metadata": {
        "id": "6ZN9PCzYnfpP"
      },
      "source": [
        "### Multinomial NB"
      ]
    },
    {
      "cell_type": "code",
      "metadata": {
        "id": "SgJeTKtFniKa"
      },
      "source": [
        "nb = MultinomialNB()\n",
        "nb.fit(X_train_cv, y_train)\n",
        "\n",
        "y_pred_nb = nb.predict(X_test_cv)"
      ],
      "execution_count": 70,
      "outputs": []
    },
    {
      "cell_type": "code",
      "metadata": {
        "colab": {
          "base_uri": "https://localhost:8080/"
        },
        "id": "I9nVcv6EoGV7",
        "outputId": "40a1508d-f637-4e7f-a822-7630bf8dbaa1"
      },
      "source": [
        "accuracy_score(y_test, y_pred_nb)"
      ],
      "execution_count": 71,
      "outputs": [
        {
          "output_type": "execute_result",
          "data": {
            "text/plain": [
              "0.9820574162679426"
            ]
          },
          "metadata": {
            "tags": []
          },
          "execution_count": 71
        }
      ]
    },
    {
      "cell_type": "code",
      "metadata": {
        "colab": {
          "base_uri": "https://localhost:8080/"
        },
        "id": "tWLS5dbroLyH",
        "outputId": "bf398e00-2743-42e8-903c-29ca80930a38"
      },
      "source": [
        "confusion_matrix(y_test, y_pred_nb)"
      ],
      "execution_count": 72,
      "outputs": [
        {
          "output_type": "execute_result",
          "data": {
            "text/plain": [
              "array([[1448,    5],\n",
              "       [  25,  194]])"
            ]
          },
          "metadata": {
            "tags": []
          },
          "execution_count": 72
        }
      ]
    },
    {
      "cell_type": "markdown",
      "metadata": {
        "id": "m4jOYqg357Cm"
      },
      "source": [
        "### Logistic Regression"
      ]
    },
    {
      "cell_type": "code",
      "metadata": {
        "id": "NoiclsNR58qW"
      },
      "source": [
        "lr = LogisticRegression()\n",
        "lr.fit(X_train_cv, y_train)\n",
        "\n",
        "y_pred_lr = lr.predict(X_test_cv)"
      ],
      "execution_count": 38,
      "outputs": []
    },
    {
      "cell_type": "code",
      "metadata": {
        "colab": {
          "base_uri": "https://localhost:8080/"
        },
        "id": "W-QEoVpr6DPq",
        "outputId": "ce8d5bfc-d117-48b3-fe13-e9549090992f"
      },
      "source": [
        "accuracy_score(y_test, y_pred_lr)"
      ],
      "execution_count": 39,
      "outputs": [
        {
          "output_type": "execute_result",
          "data": {
            "text/plain": [
              "0.9778708133971292"
            ]
          },
          "metadata": {
            "tags": []
          },
          "execution_count": 39
        }
      ]
    },
    {
      "cell_type": "code",
      "metadata": {
        "colab": {
          "base_uri": "https://localhost:8080/"
        },
        "id": "nafMLef26EWZ",
        "outputId": "f99b30a2-8949-4b6a-87ad-0a90b4938fef"
      },
      "source": [
        "confusion_matrix(y_test, y_pred_lr)"
      ],
      "execution_count": 40,
      "outputs": [
        {
          "output_type": "execute_result",
          "data": {
            "text/plain": [
              "array([[1450,    3],\n",
              "       [  34,  185]])"
            ]
          },
          "metadata": {
            "tags": []
          },
          "execution_count": 40
        }
      ]
    },
    {
      "cell_type": "markdown",
      "metadata": {
        "id": "KOATn0ZS6OfZ"
      },
      "source": [
        "### SVC"
      ]
    },
    {
      "cell_type": "code",
      "metadata": {
        "id": "4DseeKuj6Ofj"
      },
      "source": [
        "svc = SVC()\n",
        "svc.fit(X_train_cv, y_train)\n",
        "\n",
        "y_pred_sv = svc.predict(X_test_cv)"
      ],
      "execution_count": 41,
      "outputs": []
    },
    {
      "cell_type": "code",
      "metadata": {
        "colab": {
          "base_uri": "https://localhost:8080/"
        },
        "id": "Ke-fQTMG6Ofj",
        "outputId": "fd0b6f8e-b29d-43f9-f009-ca43e9b9eba0"
      },
      "source": [
        "accuracy_score(y_test, y_pred_sv)"
      ],
      "execution_count": 42,
      "outputs": [
        {
          "output_type": "execute_result",
          "data": {
            "text/plain": [
              "0.9796650717703349"
            ]
          },
          "metadata": {
            "tags": []
          },
          "execution_count": 42
        }
      ]
    },
    {
      "cell_type": "code",
      "metadata": {
        "colab": {
          "base_uri": "https://localhost:8080/"
        },
        "id": "_VtlHOuY6Ofk",
        "outputId": "0efda622-2ac1-49de-c5c7-526a51231533"
      },
      "source": [
        "confusion_matrix(y_test, y_pred_sv)"
      ],
      "execution_count": 43,
      "outputs": [
        {
          "output_type": "execute_result",
          "data": {
            "text/plain": [
              "array([[1453,    0],\n",
              "       [  34,  185]])"
            ]
          },
          "metadata": {
            "tags": []
          },
          "execution_count": 43
        }
      ]
    },
    {
      "cell_type": "markdown",
      "metadata": {
        "id": "CyVTOA9L6XUK"
      },
      "source": [
        "### Logistsic Regression"
      ]
    },
    {
      "cell_type": "code",
      "metadata": {
        "id": "ZUyC-55b6XUK"
      },
      "source": [
        "dt = DecisionTreeClassifier()\n",
        "dt.fit(X_train_cv, y_train)\n",
        "\n",
        "y_pred_dt = dt.predict(X_test_cv)"
      ],
      "execution_count": 44,
      "outputs": []
    },
    {
      "cell_type": "code",
      "metadata": {
        "colab": {
          "base_uri": "https://localhost:8080/"
        },
        "id": "sKaPY_MB6XUL",
        "outputId": "c860fa92-3137-4056-bc23-3ba19d56fae3"
      },
      "source": [
        "accuracy_score(y_test, y_pred_dt)"
      ],
      "execution_count": 45,
      "outputs": [
        {
          "output_type": "execute_result",
          "data": {
            "text/plain": [
              "0.9617224880382775"
            ]
          },
          "metadata": {
            "tags": []
          },
          "execution_count": 45
        }
      ]
    },
    {
      "cell_type": "code",
      "metadata": {
        "colab": {
          "base_uri": "https://localhost:8080/"
        },
        "id": "cltQX1Er6XUL",
        "outputId": "240dd858-1f93-4463-ec5d-731cedf984be"
      },
      "source": [
        "confusion_matrix(y_test, y_pred_dt)"
      ],
      "execution_count": 46,
      "outputs": [
        {
          "output_type": "execute_result",
          "data": {
            "text/plain": [
              "array([[1428,   25],\n",
              "       [  39,  180]])"
            ]
          },
          "metadata": {
            "tags": []
          },
          "execution_count": 46
        }
      ]
    },
    {
      "cell_type": "markdown",
      "metadata": {
        "id": "rcCsZG7A6Xft"
      },
      "source": [
        "### KNeighbours Classification"
      ]
    },
    {
      "cell_type": "code",
      "metadata": {
        "id": "UXNl6WyJ6Xft"
      },
      "source": [
        "kn = KNeighborsClassifier()\n",
        "kn.fit(X_train_cv, y_train)\n",
        "\n",
        "y_pred_kn = kn.predict(X_test_cv)"
      ],
      "execution_count": 47,
      "outputs": []
    },
    {
      "cell_type": "code",
      "metadata": {
        "colab": {
          "base_uri": "https://localhost:8080/"
        },
        "id": "frT4FYr46Xfu",
        "outputId": "215c0baf-96a8-457f-dfdc-50fb7f92851b"
      },
      "source": [
        "accuracy_score(y_test, y_pred_kn)"
      ],
      "execution_count": 48,
      "outputs": [
        {
          "output_type": "execute_result",
          "data": {
            "text/plain": [
              "0.9192583732057417"
            ]
          },
          "metadata": {
            "tags": []
          },
          "execution_count": 48
        }
      ]
    },
    {
      "cell_type": "code",
      "metadata": {
        "colab": {
          "base_uri": "https://localhost:8080/"
        },
        "id": "TdDmSx3d6Xfu",
        "outputId": "5158c9ec-6a8f-4b5f-a104-807d61197d76"
      },
      "source": [
        "confusion_matrix(y_test, y_pred_kn)"
      ],
      "execution_count": 49,
      "outputs": [
        {
          "output_type": "execute_result",
          "data": {
            "text/plain": [
              "array([[1453,    0],\n",
              "       [ 135,   84]])"
            ]
          },
          "metadata": {
            "tags": []
          },
          "execution_count": 49
        }
      ]
    },
    {
      "cell_type": "markdown",
      "metadata": {
        "id": "3a6nTU-W6Xnu"
      },
      "source": [
        "### Random Forest Classifier"
      ]
    },
    {
      "cell_type": "code",
      "metadata": {
        "id": "tfmereAC6Xnu"
      },
      "source": [
        "rf = RandomForestClassifier()\n",
        "rf.fit(X_train_cv, y_train)\n",
        "\n",
        "y_pred_rf = rf.predict(X_test_cv)"
      ],
      "execution_count": 50,
      "outputs": []
    },
    {
      "cell_type": "code",
      "metadata": {
        "colab": {
          "base_uri": "https://localhost:8080/"
        },
        "id": "S-Ve82bB6Xnv",
        "outputId": "0faa15ec-7760-4972-d29e-3e80064d5164"
      },
      "source": [
        "accuracy_score(y_test, y_pred_rf)"
      ],
      "execution_count": 51,
      "outputs": [
        {
          "output_type": "execute_result",
          "data": {
            "text/plain": [
              "0.9772727272727273"
            ]
          },
          "metadata": {
            "tags": []
          },
          "execution_count": 51
        }
      ]
    },
    {
      "cell_type": "code",
      "metadata": {
        "colab": {
          "base_uri": "https://localhost:8080/"
        },
        "id": "tl46fJu86Xnv",
        "outputId": "a8a7fb92-5b50-42a7-9e8a-40ebc31dc950"
      },
      "source": [
        "confusion_matrix(y_test, y_pred_rf)"
      ],
      "execution_count": 52,
      "outputs": [
        {
          "output_type": "execute_result",
          "data": {
            "text/plain": [
              "array([[1453,    0],\n",
              "       [  38,  181]])"
            ]
          },
          "metadata": {
            "tags": []
          },
          "execution_count": 52
        }
      ]
    },
    {
      "cell_type": "markdown",
      "metadata": {
        "id": "pv85Typ_6XsH"
      },
      "source": [
        "### AdaBoost Classifier"
      ]
    },
    {
      "cell_type": "code",
      "metadata": {
        "id": "vt0p7kqV6XsI"
      },
      "source": [
        "ada = AdaBoostClassifier()\n",
        "ada.fit(X_train_cv, y_train)\n",
        "\n",
        "y_pred_ada = ada.predict(X_test_cv)"
      ],
      "execution_count": 53,
      "outputs": []
    },
    {
      "cell_type": "code",
      "metadata": {
        "colab": {
          "base_uri": "https://localhost:8080/"
        },
        "id": "JXstjqQM6XsI",
        "outputId": "95225ce9-8cc9-4447-d249-c2ca44b59c95"
      },
      "source": [
        "accuracy_score(y_test, y_pred_ada)"
      ],
      "execution_count": 54,
      "outputs": [
        {
          "output_type": "execute_result",
          "data": {
            "text/plain": [
              "0.9629186602870813"
            ]
          },
          "metadata": {
            "tags": []
          },
          "execution_count": 54
        }
      ]
    },
    {
      "cell_type": "code",
      "metadata": {
        "colab": {
          "base_uri": "https://localhost:8080/"
        },
        "id": "kXavATZJ6XsI",
        "outputId": "b8a1253b-d948-448c-a603-b7e3d7b0693d"
      },
      "source": [
        "confusion_matrix(y_test, y_pred_ada)"
      ],
      "execution_count": 63,
      "outputs": [
        {
          "output_type": "execute_result",
          "data": {
            "text/plain": [
              "array([[1444,    9],\n",
              "       [  53,  166]])"
            ]
          },
          "metadata": {
            "tags": []
          },
          "execution_count": 63
        }
      ]
    },
    {
      "cell_type": "markdown",
      "metadata": {
        "id": "oIkES_Bn7QjH"
      },
      "source": [
        "### CatBoost Classifier"
      ]
    },
    {
      "cell_type": "code",
      "metadata": {
        "id": "CYxVEeNX7dar"
      },
      "source": [
        "cat = CatBoostClassifier()\n",
        "cat.fit(X_train_cv, y_train)\n",
        "\n",
        "y_pred_cat = cat.predict(X_test_cv)"
      ],
      "execution_count": null,
      "outputs": []
    },
    {
      "cell_type": "code",
      "metadata": {
        "colab": {
          "base_uri": "https://localhost:8080/"
        },
        "id": "-EUI53z57vbs",
        "outputId": "8a60563c-74ba-42d2-9220-4cfc2a0b3619"
      },
      "source": [
        "accuracy_score(y_test, y_pred_cat)"
      ],
      "execution_count": 62,
      "outputs": [
        {
          "output_type": "execute_result",
          "data": {
            "text/plain": [
              "0.9760765550239234"
            ]
          },
          "metadata": {
            "tags": []
          },
          "execution_count": 62
        }
      ]
    },
    {
      "cell_type": "code",
      "metadata": {
        "colab": {
          "base_uri": "https://localhost:8080/"
        },
        "id": "GH7Xc_tk8oG4",
        "outputId": "033539e0-cfaf-48b7-88e1-9e233f1af04c"
      },
      "source": [
        "confusion_matrix(y_test, y_pred_cat)"
      ],
      "execution_count": 64,
      "outputs": [
        {
          "output_type": "execute_result",
          "data": {
            "text/plain": [
              "array([[1452,    1],\n",
              "       [  39,  180]])"
            ]
          },
          "metadata": {
            "tags": []
          },
          "execution_count": 64
        }
      ]
    },
    {
      "cell_type": "markdown",
      "metadata": {
        "id": "4nhAnUu18aOG"
      },
      "source": [
        "### XGBoost Classifier"
      ]
    },
    {
      "cell_type": "code",
      "metadata": {
        "id": "wbuXR3PD8u8L"
      },
      "source": [
        "xgb = XGBClassifier()\n",
        "xgb.fit(X_train_cv, y_train)\n",
        "\n",
        "y_pred_xgb = xgb.predict(X_test_cv)"
      ],
      "execution_count": 67,
      "outputs": []
    },
    {
      "cell_type": "code",
      "metadata": {
        "colab": {
          "base_uri": "https://localhost:8080/"
        },
        "id": "GHrXvgTb8uj3",
        "outputId": "e6caecdf-f65e-4cb7-bd2d-6234dc5a51ac"
      },
      "source": [
        "accuracy_score(y_test, y_pred_xgb)"
      ],
      "execution_count": 68,
      "outputs": [
        {
          "output_type": "execute_result",
          "data": {
            "text/plain": [
              "0.965311004784689"
            ]
          },
          "metadata": {
            "tags": []
          },
          "execution_count": 68
        }
      ]
    },
    {
      "cell_type": "code",
      "metadata": {
        "colab": {
          "base_uri": "https://localhost:8080/"
        },
        "id": "c5cHG9yN8ukD",
        "outputId": "e5123e6d-8f5a-4646-ec75-cf6a7d66a6c8"
      },
      "source": [
        "confusion_matrix(y_test, y_pred_xgb)"
      ],
      "execution_count": 69,
      "outputs": [
        {
          "output_type": "execute_result",
          "data": {
            "text/plain": [
              "array([[1446,    7],\n",
              "       [  51,  168]])"
            ]
          },
          "metadata": {
            "tags": []
          },
          "execution_count": 69
        }
      ]
    }
  ]
}